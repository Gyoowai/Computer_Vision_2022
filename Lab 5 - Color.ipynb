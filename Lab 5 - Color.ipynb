{
 "cells": [
  {
   "attachments": {},
   "cell_type": "markdown",
   "metadata": {},
   "source": [
    "# 2110443 - Computer Vision (2022/2)\n",
    "## Lab 5 - Color Processing\n",
    "In this lab, we will learn to use color feature in different color spaces to extract useful information from images. This notebook includes both coding and written questions. Please hand in this notebook file with all outputs and your answer"
   ]
  },
  {
   "cell_type": "markdown",
   "metadata": {},
   "source": [
    "Import OpenCV, Numpy and Matplotlib as always"
   ]
  },
  {
   "cell_type": "code",
   "execution_count": 1,
   "metadata": {},
   "outputs": [],
   "source": [
    "import cv2\n",
    "import math\n",
    "import time\n",
    "import threading\n",
    "import numpy as np\n",
    "import random as rng\n",
    "from matplotlib import pyplot as plt\n",
    "from ipywidgets import interact,interactive\n",
    "import ipywidgets as widgets\n",
    "from IPython.display import display, HTML,clear_output\n",
    "import IPython.display\n",
    "%matplotlib inline"
   ]
  },
  {
   "cell_type": "markdown",
   "metadata": {},
   "source": [
    "## Grayscale Image Thresholding\n",
    "Thresholding is the simplest method of image segmentation. This non-linear operation converts a grayscale image into a binary image where the two colors (black/white) are assigned to pixels that are below or above the specified threshold. <br>\n",
    "Lena comes again! Can you adjust both sliders to segment lena's skin?"
   ]
  },
  {
   "cell_type": "code",
   "execution_count": 2,
   "metadata": {},
   "outputs": [
    {
     "data": {
      "application/vnd.jupyter.widget-view+json": {
       "model_id": "141bcaa83d1148aabc1c70ad17c7d911",
       "version_major": 2,
       "version_minor": 0
      },
      "text/plain": [
       "interactive(children=(IntSlider(value=1, description='minValue', max=255), IntSlider(value=1, description='max…"
      ]
     },
     "metadata": {},
     "output_type": "display_data"
    }
   ],
   "source": [
    "inputImage = cv2.imread(\"assets/lena_std.tif\",cv2.IMREAD_GRAYSCALE)\n",
    "def grayscaleThresholding(minValue,maxValue):\n",
    "    thresholdImage = np.logical_and(inputImage > minValue, inputImage < maxValue)\n",
    "    inputImageCopy = inputImage.copy()\n",
    "    cv2.rectangle(inputImageCopy,(250,400),(340,500),255,3)\n",
    "    cropRegion = inputImage[400:500,250:340]\n",
    "    \n",
    "    plt.figure(figsize=(10,10))\n",
    "    plt.subplot(131)\n",
    "    plt.title(\"Lena Image\")\n",
    "    plt.imshow(inputImageCopy, cmap='gray')\n",
    "    \n",
    "    plt.subplot(132)\n",
    "    plt.title(\"Segmentation Mask\")\n",
    "    plt.imshow(thresholdImage, cmap='gray')\n",
    "    \n",
    "    plt.subplot(133)\n",
    "    plt.title(\"Pixel Value Distribution\")\n",
    "    plt.hist(cropRegion,range=(0,255))\n",
    "    plt.show()\n",
    "interact(grayscaleThresholding, minValue=widgets.IntSlider(min=0,max=255,step=1,value=1),maxValue=widgets.IntSlider(min=0,max=255,step=1,value=1));"
   ]
  },
  {
   "cell_type": "markdown",
   "metadata": {},
   "source": [
    "## Simple Image Segmentation using Color"
   ]
  },
  {
   "cell_type": "markdown",
   "metadata": {},
   "source": [
    "As you can see from the above sample, only grayscale information is usually not enough to segment \"things\" from the images. In this section we will apply simple color segmentation on various colorspaces. The following block is code snippet which retrive image from your webcam and apply thresholding on BGR image using defined value."
   ]
  },
  {
   "cell_type": "code",
   "execution_count": 683,
   "metadata": {},
   "outputs": [],
   "source": [
    "bMin = 50; bMax = 170\n",
    "gMin = 70; gMax = 180\n",
    "rMin = 90; rMax = 220\n",
    "cameraNo = 0"
   ]
  },
  {
   "cell_type": "code",
   "execution_count": 6,
   "metadata": {},
   "outputs": [
    {
     "name": "stdout",
     "output_type": "stream",
     "text": [
      "Stream stopped\n"
     ]
    }
   ],
   "source": [
    "# You can press \"Interupt Kernel Button to stop webcam\"\n",
    "inputStream = cv2.VideoCapture(cameraNo) \n",
    "try:\n",
    "    while True:\n",
    "        _, videoFrameBGR = inputStream.read()\n",
    "        if videoFrameBGR is not None:\n",
    "            outputVideoFrameBGR = videoFrameBGR.copy()\n",
    "\n",
    "            # Draw ROI\n",
    "            cv2.rectangle(outputVideoFrameBGR,(100,100),(200,200),(0,255,0),3)\n",
    "            # Cropped Region\n",
    "            croppedRegion = videoFrameBGR[100:200,100:200,:]\n",
    "            \n",
    "           \n",
    "            \n",
    "            mask = cv2.inRange(videoFrameBGR,(bMin,gMin,rMin),(bMax,gMax,rMax))[:,:,np.newaxis]\n",
    "            mask = np.repeat(mask,3,axis=2)\n",
    "            \n",
    "            ## Draw Min/Max pixel value in BGR order on image\n",
    "            cv2.putText(outputVideoFrameBGR,str(np.min(croppedRegion[:,:,0]))+'/'+str(np.min(croppedRegion[:,:,1]))+'/'+str(np.min(croppedRegion[:,:,2])),(20,20),cv2.FONT_HERSHEY_SIMPLEX,1.0,(0,0,255))\n",
    "            cv2.putText(outputVideoFrameBGR,str(np.max(croppedRegion[:,:,0]))+'/'+str(np.max(croppedRegion[:,:,1]))+'/'+str(np.max(croppedRegion[:,:,2])),(20,50),cv2.FONT_HERSHEY_SIMPLEX,1.0,(0,0,255))\n",
    "            \n",
    "            outputVideoFrameBGR = np.hstack((outputVideoFrameBGR,mask))\n",
    "            \n",
    "            # Encode image as jpg numpy array\n",
    "            _, buf = cv2.imencode(\".jpg\", outputVideoFrameBGR)\n",
    "            # Draw result\n",
    "            IPython.display.display(IPython.display.Image(data=buf))\n",
    "        \n",
    "            clear_output(wait=True) \n",
    "        else:\n",
    "            print(\"Cannot Open Webcam, hw problem?\")\n",
    "            break\n",
    "except KeyboardInterrupt:\n",
    "    print (\"Stream stopped\")\n",
    "inputStream.release()"
   ]
  },
  {
   "cell_type": "markdown",
   "metadata": {},
   "source": [
    "Since the slider widget does not support for-loop webcam retrival method that we use, we may use build-in OpenCV GUI library to create a color range slider by using the following code. (The window name <b>\"Color Segmentation\"</b> will popup!)"
   ]
  },
  {
   "cell_type": "code",
   "execution_count": 12,
   "metadata": {},
   "outputs": [],
   "source": [
    "def sliderCallback(x):\n",
    "    pass\n",
    "# Create a OpenCV Window\n",
    "windowName = 'Color Segmentation'\n",
    "cv2.namedWindow(windowName)\n",
    "cv2.createTrackbar('bMin',windowName,0,255,sliderCallback)\n",
    "cv2.createTrackbar('gMin',windowName,0,255,sliderCallback)\n",
    "cv2.createTrackbar('rMin',windowName,0,255,sliderCallback)\n",
    "cv2.createTrackbar('bMax',windowName,0,255,sliderCallback)\n",
    "cv2.createTrackbar('gMax',windowName,0,255,sliderCallback)\n",
    "cv2.createTrackbar('rMax',windowName,0,255,sliderCallback)\n",
    "\n",
    "inputStream = cv2.VideoCapture(cameraNo) \n",
    "try:\n",
    "    while True:\n",
    "        _, videoFrameBGR = inputStream.read()\n",
    "        if videoFrameBGR is not None:\n",
    "            \n",
    "            \n",
    "            bMin = cv2.getTrackbarPos('bMin',windowName)\n",
    "            gMin = cv2.getTrackbarPos('gMin',windowName)\n",
    "            rMin = cv2.getTrackbarPos('rMin',windowName)\n",
    "            \n",
    "            bMax = cv2.getTrackbarPos('bMax',windowName)\n",
    "            gMax = cv2.getTrackbarPos('gMax',windowName)\n",
    "            rMax = cv2.getTrackbarPos('rMax',windowName)\n",
    "            \n",
    "            mask = cv2.inRange(videoFrameBGR,(bMin,gMin,rMin),(bMax,gMax,rMax))[:,:,np.newaxis]\n",
    "            mask = np.repeat(mask,3,axis=2)\n",
    "            outputVideoFrameBGR = videoFrameBGR.copy()\n",
    "            outputVideoFrameBGR = np.hstack((outputVideoFrameBGR,mask))\n",
    "            \n",
    "            cv2.imshow(windowName,outputVideoFrameBGR)\n",
    "            if cv2.waitKey(1) == ord('q'):\n",
    "                cv2.destroyAllWindows()\n",
    "                break\n",
    "        else:\n",
    "            print(\"Cannot Open Webcam, hw problem?\")\n",
    "            break\n",
    "except KeyboardInterrupt:\n",
    "    print (\"Stream stopped\")\n",
    "inputStream.release()\n",
    "cv2.destroyAllWindows()"
   ]
  },
  {
   "cell_type": "markdown",
   "metadata": {},
   "source": [
    "OpenCV supports many well-known colorspaces. You can apply the colorspace transformation by using <a href=\"https://docs.opencv.org/3.4.2/d7/d1b/group__imgproc__misc.html#ga397ae87e1288a81d2363b61574eb8cab\">cv2.cvtColor</a> and see the list of suppoted transformation flags <a href=\"https://docs.opencv.org/3.4.2/d7/d1b/group__imgproc__misc.html#ga4e0972be5de079fed4e3a10e24ef5ef0\">here</a>. Try tp apply color segmention on any object in other colorspace <b>(NOT BGR!!)</b> by fill the following block."
   ]
  },
  {
   "cell_type": "code",
   "execution_count": 4,
   "metadata": {},
   "outputs": [],
   "source": [
    "### FILL HERE ###\n",
    "hMin = 50; hMax = 170\n",
    "sMin = 70; sMax = 180\n",
    "vMin = 90; vMax = 220\n",
    "cameraNo = 0\n",
    "def sliderCallback(x):\n",
    "    pass\n",
    "# Create a OpenCV Window\n",
    "windowName = 'Color Segmentation'\n",
    "cv2.namedWindow(windowName)\n",
    "cv2.createTrackbar('hMin',windowName,0,180,sliderCallback)\n",
    "cv2.createTrackbar('sMin',windowName,0,255,sliderCallback)\n",
    "cv2.createTrackbar('vMin',windowName,0,255,sliderCallback)\n",
    "cv2.createTrackbar('hMax',windowName,0,180,sliderCallback)\n",
    "cv2.createTrackbar('sMax',windowName,0,255,sliderCallback)\n",
    "cv2.createTrackbar('vMax',windowName,0,255,sliderCallback)\n",
    "\n",
    "inputStream = cv2.VideoCapture(cameraNo) \n",
    "try:\n",
    "    while True:\n",
    "        _, videoFrameBGR = inputStream.read()\n",
    "        videoFrameHSV = cv2.cvtColor(videoFrameBGR, cv2.COLOR_BGR2HSV)\n",
    "        if videoFrameBGR is not None:\n",
    "            \n",
    "            hMin = cv2.getTrackbarPos('hMin',windowName)\n",
    "            sMin = cv2.getTrackbarPos('sMin',windowName)\n",
    "            vMin = cv2.getTrackbarPos('vMin',windowName)\n",
    "            \n",
    "            hMax = cv2.getTrackbarPos('hMax',windowName)\n",
    "            sMax = cv2.getTrackbarPos('sMax',windowName)\n",
    "            vMax = cv2.getTrackbarPos('vMax',windowName)\n",
    "            \n",
    "            mask = cv2.inRange(videoFrameHSV,(hMin,sMin,vMin),(hMax,sMax,vMax))[:,:,np.newaxis]\n",
    "            mask = np.repeat(mask,3,axis=2)\n",
    "            outputVideoFrameBGR = videoFrameBGR.copy()\n",
    "            outputVideoFrameBGR = np.hstack((outputVideoFrameBGR,mask))\n",
    "            \n",
    "            cv2.imshow(windowName,outputVideoFrameBGR)\n",
    "            if cv2.waitKey(1) == ord('q'):\n",
    "                cv2.destroyAllWindows()\n",
    "                break\n",
    "        else:\n",
    "            print(\"Cannot Open Webcam, hw problem?\")\n",
    "            break\n",
    "except KeyboardInterrupt:\n",
    "    print (\"Stream stopped\")\n",
    "inputStream.release()\n",
    "cv2.destroyAllWindows()"
   ]
  },
  {
   "cell_type": "markdown",
   "metadata": {},
   "source": [
    "## Morphological Transformations"
   ]
  },
  {
   "cell_type": "markdown",
   "metadata": {},
   "source": [
    "The field of mathematical morphology contributes a wide range of operators to image processing, all based around a simple mathematical concepts from set theory. Morphological transformations are the operations based on the image shape employed on binay images. This operation needs needs two inputs, one is binary image, second one is called <b>structuring element or kernel</b> which decides the operation output. You can design the kernel to suit your application needs. Two basic morphological operators are Erosion and Dilation"
   ]
  },
  {
   "cell_type": "markdown",
   "metadata": {},
   "source": [
    "The following mask image is segmented by using color information. You can see that there are some hand's pixels which are not connect into a perfect hand shape. We can correct these by using the basic morphological operaters."
   ]
  },
  {
   "cell_type": "code",
   "execution_count": 222,
   "metadata": {},
   "outputs": [
    {
     "data": {
      "image/png": "[encoded data removed]",
      "text/plain": [
       "<Figure size 432x288 with 1 Axes>"
      ]
     },
     "metadata": {
      "needs_background": "light"
     },
     "output_type": "display_data"
    }
   ],
   "source": [
    "handMask = cv2.imread('assets/Lab5-SegmentedHand.png',cv2.IMREAD_GRAYSCALE)\n",
    "plt.title('Segmented Hand Mask')\n",
    "plt.imshow(handMask,cmap='gray')\n",
    "plt.show()"
   ]
  },
  {
   "cell_type": "code",
   "execution_count": 223,
   "metadata": {},
   "outputs": [
    {
     "data": {
      "application/vnd.jupyter.widget-view+json": {
       "model_id": "01a576ab37274849adf52567ffb3f27c",
       "version_major": 2,
       "version_minor": 0
      },
      "text/plain": [
       "interactive(children=(IntSlider(value=1, description='kernelSize', max=11, min=1), Dropdown(description='kerne…"
      ]
     },
     "metadata": {},
     "output_type": "display_data"
    }
   ],
   "source": [
    "def openAndCloseMorph(kernelSize,kernelShape, morphType):\n",
    "    kernel = cv2.getStructuringElement(kernelShape,(kernelSize,kernelSize))\n",
    "    # kernelshape => [full, cross, ellipse]\n",
    "\n",
    "    outputImage = handMask.copy()\n",
    "    \n",
    "    if morphType == 'erode':\n",
    "        outputImage = cv2.erode(outputImage,kernel,iterations = 1)\n",
    "    else:\n",
    "        outputImage = cv2.dilate(outputImage,kernel,iterations = 1)\n",
    "\n",
    "    plt.figure(figsize=(5,5))\n",
    "    plt.imshow(outputImage, cmap='gray')\n",
    "    plt.show()\n",
    "    \n",
    "    print('Morphology Kernel Shape:')\n",
    "    display(kernel)\n",
    "    \n",
    "interact(openAndCloseMorph, kernelSize=widgets.IntSlider(min=1,max=11,step=1,value=1), \n",
    "         kernelShape=widgets.Dropdown(\n",
    "                        options=[cv2.MORPH_RECT,cv2.MORPH_ELLIPSE, cv2.MORPH_CROSS],\n",
    "                        value=cv2.MORPH_RECT,\n",
    "                        description='kernelShape:',\n",
    "                        disabled=False),\n",
    "        morphType=widgets.Dropdown(\n",
    "                        options=['erode','dilate'],\n",
    "                        value='erode',\n",
    "                        description='Morph Type:',\n",
    "                        disabled=False)\n",
    ");"
   ]
  },
  {
   "cell_type": "markdown",
   "metadata": {},
   "source": [
    "This <a href=\"https://docs.opencv.org/3.4.2/d9/d61/tutorial_py_morphological_ops.html\">page</a> shows a good morphological operation exmple, try to write an interactive visualization like the above sample on <b>Opening and Closing</b> operations. See the output results by yourself."
   ]
  },
  {
   "cell_type": "code",
   "execution_count": 224,
   "metadata": {},
   "outputs": [
    {
     "data": {
      "application/vnd.jupyter.widget-view+json": {
       "model_id": "12be33da547246da80d7043bc1206a07",
       "version_major": 2,
       "version_minor": 0
      },
      "text/plain": [
       "interactive(children=(IntSlider(value=1, description='kernelSize', max=11, min=1), Dropdown(description='kerne…"
      ]
     },
     "metadata": {},
     "output_type": "display_data"
    },
    {
     "data": {
      "text/plain": [
       "<function __main__.openAndCloseMorph(kernelSize, kernelShape, morphType)>"
      ]
     },
     "execution_count": 224,
     "metadata": {},
     "output_type": "execute_result"
    }
   ],
   "source": [
    "### FILL HERE ###\n",
    "def openAndCloseMorph(kernelSize,kernelShape, morphType):\n",
    "    kernel = cv2.getStructuringElement(kernelShape,(kernelSize,kernelSize))\n",
    "    # kernelshape => [full, cross, ellipse]\n",
    "\n",
    "    outputImage = handMask.copy()\n",
    "    \n",
    "    if morphType == 'opening':\n",
    "        outputImage = cv2.morphologyEx(outputImage, cv2.MORPH_OPEN, kernel)\n",
    "    else:\n",
    "                outputImage = cv2.morphologyEx(outputImage, cv2.MORPH_CLOSE, kernel)\n",
    "\n",
    "\n",
    "    plt.figure(figsize=(5,5))\n",
    "    plt.imshow(outputImage, cmap='gray')\n",
    "    plt.show()\n",
    "    \n",
    "    print('Morphology Kernel Shape:')\n",
    "    display(kernel)\n",
    "    \n",
    "interact(openAndCloseMorph, kernelSize=widgets.IntSlider(min=1,max=11,step=1,value=1), \n",
    "         kernelShape=widgets.Dropdown(\n",
    "                        options=[cv2.MORPH_RECT,cv2.MORPH_ELLIPSE, cv2.MORPH_CROSS],\n",
    "                        value=cv2.MORPH_RECT,\n",
    "                        description='kernelShape:',\n",
    "                        disabled=False),\n",
    "        morphType=widgets.Dropdown(\n",
    "                        options=['opening','closing'],\n",
    "                        value='opening',\n",
    "                        description='Morph Type:',\n",
    "                        disabled=False)\n",
    ")"
   ]
  },
  {
   "cell_type": "markdown",
   "metadata": {},
   "source": [
    "## Assignment 1 - Color Based Face Detector <br>\n",
    "\n",
    "<img src=\"assets/Lab5-funnyface.gif\"/>\n",
    "By using the knowledge from lecture 1-4, you should be able to write your own simple color based face detector. Use the above code snippets to help you write it. The output should be a code which retrive video feed from <b>your webcam</b> and draw bounding boxes around detected faces. Write the detection results into video file and hand in with this notebook. There should be <b>two video sequences</b>, in good lighting and other lighting condition. The output video should show robustness of your designed alogorithm. (Optional) You will get extra points if you can use <b>same parameters</b> for both sequences.\n",
    "\n",
    "<b>Basic Guidance:<b>\n",
    "1. Create a \"face color segmentation mask\" using your choice colorspace.\n",
    "2. Filter out the outlier pixel!\n",
    "3. Categorize each connected component into group by using cv2.findContours (from Lab 3)\n",
    "4. Find the bounding box which can enclose those connect components by <a href=\"https://docs.opencv.org/3.4.2/d3/dc0/group__imgproc__shape.html#gacb413ddce8e48ff3ca61ed7cf626a366\">cv2.boundingRect</a>\n",
    "\n",
    "<b>Hints:</b>\n",
    "- From today lecture, how do to discard noise/fill small hole from color segmentation mask output?\n",
    "- Since this is a color-based problem, you can use old knowledge from lecture 1-3 to improve segmentation result by apply <b>?</b> on input image\n",
    "- You can use some specific threshold based on shape properties or simple morphological operations to keep only potential contours\n",
    "- To achieve a better result for both lighting conditions, you may need to apply some data analysis on the <b>region of interest</b> by plotting each channel value and see their data distributions.\n",
    "- Internet is your friend. You can search for relavent research papers and use their algorithms/implementations, but you must <b>give proper credits</b> by citing them in this notebook. "
   ]
  },
  {
   "cell_type": "code",
   "execution_count": null,
   "metadata": {},
   "outputs": [],
   "source": [
    "### Describe how your algorithm work here (Thai or English). You can provide any visualization if you want.\n",
    "'''\n",
    "1. Convert into YCrCb color space to seperate luminance(Y) and color(Cr,Cb) information\n",
    "2. Experiment to get the range of Cr and Cb of face skin color\n",
    "3. Filter in that range to get the mask\n",
    "4. Expand discontinuous contour line with morphological closing\n",
    "5. Find contour with largest contour area and draw the rectangle based on it\n",
    "'''"
   ]
  },
  {
   "cell_type": "code",
   "execution_count": 305,
   "metadata": {},
   "outputs": [],
   "source": [
    "# Face Color Range in YCrCb color space\n",
    "min_YCrCb = np.array([0,133,77],np.uint8)\n",
    "max_YCrCb = np.array([235,173,127],np.uint8)\n",
    "\n",
    "def faceDetector(image):\n",
    "    imageCopy = image.copy()\n",
    "    imageYCrCb = cv2.cvtColor(imageCopy,cv2.COLOR_BGR2YCR_CB)\n",
    "    mask = cv2.inRange(imageYCrCb,min_YCrCb,max_YCrCb)\n",
    "\n",
    "    # expand discontinuous contour line w/ morphological closing\n",
    "    kernelShape = cv2.MORPH_ELLIPSE\n",
    "    kernelSize = 10\n",
    "    kernel = cv2.getStructuringElement(kernelShape,(kernelSize,kernelSize))\n",
    "    mask = cv2.morphologyEx(mask, cv2.MORPH_CLOSE, kernel)\n",
    "\n",
    "    # find contour with largest contour area\n",
    "    contours, _ = cv2.findContours(mask, cv2.RETR_EXTERNAL, cv2.CHAIN_APPROX_SIMPLE)\n",
    "    if contours != ():\n",
    "        largest_id = np.argmax([cv2.contourArea((contours[i])) for i in range(len(contours))])\n",
    "        x, y, w, h = cv2.boundingRect(contours[largest_id])\n",
    "        cv2.rectangle(imageCopy,(x,y),(x+w,y+h),(0,0,255),3)\n",
    "\n",
    "    return imageCopy, mask"
   ]
  },
  {
   "cell_type": "code",
   "execution_count": 307,
   "metadata": {},
   "outputs": [
    {
     "name": "stdout",
     "output_type": "stream",
     "text": [
      "Stream stopped\n"
     ]
    }
   ],
   "source": [
    "# Webcam\n",
    "inputStream = cv2.VideoCapture(0)\n",
    "inputWidth = int(inputStream.get(cv2.CAP_PROP_FRAME_WIDTH))\n",
    "inputHeight = int(inputStream.get(cv2.CAP_PROP_FRAME_HEIGHT))\n",
    "outputStream = cv2.VideoWriter('outputFaceDetector.mp4',\n",
    "                               cv2.VideoWriter_fourcc('x', '2', '6', '4'),\n",
    "                               25, (inputWidth, inputHeight))\n",
    "\n",
    "# Wait 2 second before start\n",
    "import time\n",
    "for i in range(2):\n",
    "    print(str(i)+\"!\")\n",
    "    time.sleep(1)\n",
    "print(\"Action!\")\n",
    "# Action!\n",
    "\n",
    "try:\n",
    "    while True:\n",
    "        _, videoFrame = inputStream.read()\n",
    "        if videoFrame is not None:\n",
    "            videoFrame,_ = faceDetector(videoFrame)\n",
    "            outputStream.write(videoFrame)\n",
    "            \n",
    "            # Encode image as jpg numpy array\n",
    "            _, buf = cv2.imencode(\".jpg\", videoFrame)\n",
    "            # Draw result\n",
    "            IPython.display.display(IPython.display.Image(data=buf))\n",
    "            # Discard old output\n",
    "            clear_output(wait=True)\n",
    "        else:\n",
    "            print(\"Cannot Open Webcam, hw problem?\")\n",
    "            break\n",
    "except KeyboardInterrupt:\n",
    "    print (\"Stream stopped\")\n",
    "inputStream.release()\n",
    "outputStream.release()"
   ]
  },
  {
   "cell_type": "markdown",
   "metadata": {},
   "source": [
    "## Assignment 2 - Invisibility Cloak \n",
    "By using the knowledge from lecture 1-4, you should be able to mimic a invisibility cloak from famous Harry Potter franchise by using color segmentation<br>\n",
    "<img src=\"assets/Lab5-invisibilitycloak.gif\"><br>\n",
    "<b>Basic Guidance:<b>\n",
    "1. Create a \"invisibility cloak color segmentation mask\" using your choice colorspace.\n",
    "2. Filter out the outlier pixel using some specify (you can think by your own!) criteria.\n",
    "3. Replace each invisible cloak area with store static background image.\n",
    "4. Make a short video clip to demonstrate/show your algorithm\n",
    "\n",
    "<b>Hints:</b>\n",
    "- From today lecture, how do to discard noise/fill small hole from color segmentation mask output?\n",
    "- Since this is a color-based problem, you can use old knowledge from lecture 1-3 to improve segmentation result by apply <b>?</b> on input image\n",
    "- Internet is your friend. You can search for relavent research papers and use their algorithm, but you must <b>give proper credits</b> by citing them in this notebook. "
   ]
  },
  {
   "cell_type": "code",
   "execution_count": null,
   "metadata": {},
   "outputs": [],
   "source": [
    "### Describe how your algorithm work here (Thai or English). You can provide any visualization if you want.\n",
    "'''\n",
    "1. Convert into HSV color space to filter by hue value\n",
    "2. Filter in that range to get the mask\n",
    "3. Expand discontinuous contour line with morphological operation\n",
    "4. Replace the mask area with replacement image using bitwise operation\n",
    "'''"
   ]
  },
  {
   "cell_type": "code",
   "execution_count": 681,
   "metadata": {},
   "outputs": [],
   "source": [
    "# Face Color Range in HSV color space\n",
    "min_HSV = np.array([150,0,0],np.uint8)\n",
    "max_HSV = np.array([173,235,235],np.uint8)\n",
    "\n",
    "def makeInvisible(image):\n",
    "    imageCopy = image.copy()\n",
    "    imageHSV = cv2.cvtColor(imageCopy,cv2.COLOR_BGR2HSV)\n",
    "\n",
    "    replacement = cv2.imread(\"room.jpg\")\n",
    "    h, w = imageCopy.shape[:2]\n",
    "    replacement_resized = cv2.resize(replacement, (w, h))\n",
    "    \n",
    "    mask = cv2.inRange(imageHSV,min_HSV,max_HSV)\n",
    "\n",
    "    # expand discontinuous contour line w/ morphological closing\n",
    "    kernelShape = cv2.MORPH_ELLIPSE\n",
    "    kernelSize = 9\n",
    "    kernel = cv2.getStructuringElement(kernelShape,(kernelSize,kernelSize))\n",
    "    mask = cv2.morphologyEx(mask, cv2.MORPH_OPEN, kernel)\n",
    "\n",
    "    # Reshape mask to 3d\n",
    "    mask = mask[:,:,np.newaxis]\n",
    "    mask = np.repeat(mask,3,axis=2)\n",
    "        \n",
    "    # Replace the mask area with replacement image\n",
    "    white = cv2.bitwise_not(mask)\n",
    "    region1 = cv2.bitwise_and(white, imageCopy)\n",
    "    region2 = cv2.bitwise_and(mask, replacement_resized)\n",
    "\n",
    "    return cv2.add(region1,region2), mask"
   ]
  },
  {
   "cell_type": "code",
   "execution_count": 680,
   "metadata": {},
   "outputs": [
    {
     "name": "stdout",
     "output_type": "stream",
     "text": [
      "Stream stopped\n"
     ]
    }
   ],
   "source": [
    "# Webcam\n",
    "inputStream = cv2.VideoCapture(0)\n",
    "inputWidth = int(inputStream.get(cv2.CAP_PROP_FRAME_WIDTH))\n",
    "inputHeight = int(inputStream.get(cv2.CAP_PROP_FRAME_HEIGHT))\n",
    "outputStream = cv2.VideoWriter('outputInvisible.mp4',\n",
    "                               cv2.VideoWriter_fourcc('x', '2', '6', '4'),\n",
    "                               25, (inputWidth, inputHeight))\n",
    "\n",
    "# Wait 2 second before start\n",
    "import time\n",
    "for i in range(2):\n",
    "    print(str(i)+\"!\")\n",
    "    time.sleep(1)\n",
    "print(\"Action!\")\n",
    "# Action!\n",
    "\n",
    "try:\n",
    "    while True:\n",
    "        _, videoFrame = inputStream.read()\n",
    "        if videoFrame is not None:\n",
    "            videoFrame,_ = makeInvisible(videoFrame)\n",
    "            outputStream.write(videoFrame)\n",
    "            \n",
    "            # Encode image as jpg numpy array\n",
    "            _, buf = cv2.imencode(\".jpg\", videoFrame)\n",
    "            # Draw result\n",
    "            IPython.display.display(IPython.display.Image(data=buf))\n",
    "            # Discard old output\n",
    "            clear_output(wait=True)\n",
    "        else:\n",
    "            print(\"Cannot Open Webcam, hw problem?\")\n",
    "            break\n",
    "except KeyboardInterrupt:\n",
    "    print (\"Stream stopped\")\n",
    "inputStream.release()\n",
    "outputStream.release()"
   ]
  },
  {
   "cell_type": "code",
   "execution_count": null,
   "metadata": {},
   "outputs": [],
   "source": []
  }
 ],
 "metadata": {
  "kernelspec": {
   "display_name": "Python 3",
   "language": "python",
   "name": "python3"
  },
  "language_info": {
   "codemirror_mode": {
    "name": "ipython",
    "version": 3
   },
   "file_extension": ".py",
   "mimetype": "text/x-python",
   "name": "python",
   "nbconvert_exporter": "python",
   "pygments_lexer": "ipython3",
   "version": "3.7.0"
  },
  "vscode": {
   "interpreter": {
    "hash": "a23257344542c70b70a498512f46db94a3a7f44d371a6893c689768adca66338"
   }
  }
 },
 "nbformat": 4,
 "nbformat_minor": 4
}
